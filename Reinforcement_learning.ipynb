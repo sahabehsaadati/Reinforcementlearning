{
  "nbformat": 4,
  "nbformat_minor": 0,
  "metadata": {
    "colab": {
      "provenance": []
    },
    "kernelspec": {
      "name": "python3",
      "display_name": "Python 3"
    },
    "language_info": {
      "name": "python"
    }
  },
  "cells": [
    {
      "cell_type": "code",
      "execution_count": 2,
      "metadata": {
        "id": "GZgCJ6KbjriW"
      },
      "outputs": [],
      "source": [
        "import random\n",
        "\n",
        "class Game:\n",
        "    def __init__(self, a, b):\n",
        "        self.a = a\n",
        "        self.b = b\n",
        "\n",
        "    def get_reward(self):\n",
        "        return random.uniform(self.a, self.b)"
      ]
    },
    {
      "cell_type": "code",
      "source": [
        "class Player:\n",
        "    def __init__(self, epsilon):\n",
        "        self.epsilon = epsilon\n",
        "        self.total_reward = 0\n",
        "        self.game_a_reward = 0\n",
        "        self.game_b_reward = 0\n",
        "\n",
        "    def choose_game(self):\n",
        "        if random.uniform(0, 1) < self.epsilon:\n",
        "            return Game(0, 1) # بازی تصادفی\n",
        "        else:\n",
        "            if self.game_a_reward > self.game_b_reward:\n",
        "                return Game(0, 0.5) # بازی a\n",
        "            else:\n",
        "                return Game(0.5, 1) # بازی b\n",
        "\n",
        "    def play(self, game):\n",
        "        reward = game.get_reward()\n",
        "        self.total_reward += reward\n",
        "        if game.a == 0 and game.b == 0.5:\n",
        "            self.game_a_reward += reward\n",
        "        else:\n",
        "            self.game_b_reward += reward"
      ],
      "metadata": {
        "id": "FAKGsBUakjfC"
      },
      "execution_count": 3,
      "outputs": []
    },
    {
      "cell_type": "code",
      "source": [
        "epsilon = 0.1\n",
        "num_rounds = 10000\n",
        "\n",
        "player = Player(epsilon)\n",
        "\n",
        "for i in range(num_rounds):\n",
        "    game = player.choose_game()\n",
        "    player.play(game)\n",
        "\n",
        "print(\"Total reward: \", player.total_reward)\n",
        "print(\"Game A reward: \", player.game_a_reward)\n",
        "print(\"Game B reward: \", player.game_b_reward)"
      ],
      "metadata": {
        "colab": {
          "base_uri": "https://localhost:8080/"
        },
        "id": "EDVfm5tQkt2C",
        "outputId": "7d9ba445-6cf2-4ee3-c078-e84b92b67072"
      },
      "execution_count": 4,
      "outputs": [
        {
          "output_type": "stream",
          "name": "stdout",
          "text": [
            "Total reward:  7266.269493795774\n",
            "Game A reward:  0\n",
            "Game B reward:  7266.269493795774\n"
          ]
        }
      ]
    }
  ]
}